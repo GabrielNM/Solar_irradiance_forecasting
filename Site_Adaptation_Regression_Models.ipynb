{
 "cells": [
  {
   "cell_type": "markdown",
   "metadata": {
    "id": "2DMkpQYPlMtk"
   },
   "source": [
    "# Site-adaptation\n",
    "Satellite measurements: high temporal resolution but limited spatial resolution.\n",
    "\n",
    "In situ measurements: high accuracy but missing data.\n",
    "\n",
    "Take the best of both databases to obtain improved spatio-temporal resolution, known as site-adaptation.\n",
    "\n",
    "\n"
   ]
  },
  {
   "cell_type": "markdown",
   "metadata": {
    "id": "GsVJ_gnXwVFX"
   },
   "source": [
    "## In-situ data\n",
    "\n",
    "Corresponding solar radiation data (W/m^2) to station: BOTANA - AUT [52055210]. \n",
    "\n",
    "From 2006 to 2017 with hourly measurements. 22% missing data.\n",
    "\n",
    "http://dhime.ideam.gov.co/atencionciudadano/\n",
    "\n",
    "![IDEAM](https://drive.google.com/uc?export=view&id=1xjlD1ZZfuKa5KMiXtFRkBMuR-4f9pwLr)"
   ]
  },
  {
   "cell_type": "markdown",
   "metadata": {
    "id": "jCE-0xdj1I2B"
   },
   "source": [
    "## Satellite data\n",
    "\n",
    "Corresponding satellite data of solar radiation (global, direct, diffuse) (W/m^2), temperature (°C), wind speed (m/s), and Zenith solar angle. With data from 1998 to 2017 with half-hourly measurements and spatial resolution of 4 km^2.\n",
    "\n",
    "https://maps.nrel.gov/nsrdb-viewer\n",
    "\n",
    "![NREL](https://drive.google.com/uc?export=view&id=1Q0QG-ODIvrf8fBg5gPi84BDW23Vu7lYy)"
   ]
  },
  {
   "cell_type": "markdown",
   "metadata": {
    "id": "bWK6C4gu-2-P"
   },
   "source": [
    "[1. Import libreries](#import_librerias)\n",
    "\n",
    "[2. Load databases](#cargar_imagenes)\n",
    "\n",
    "[3. Regresion models](#modelos)\n",
    "\n",
    "[4. Testing best model in test set](#test)\n",
    "\n",
    "[5. Saving best model](#guardar_modelo)\n",
    "\n",
    "[6. Testing of the best model](#pruebas)\n",
    "\n",
    "[7. Applying the model to the entire satellite database](#aplicar_modelo)\n",
    "\n",
    "[8. Saving improved database](#base_datos_final)\n",
    "\n",
    "[9. Challenges](#retos)"
   ]
  },
  {
   "cell_type": "markdown",
   "metadata": {
    "id": "MxY7BPuv3TQW"
   },
   "source": [
    "<a name=\"import_librerias\"></a>\n",
    "# 1. Import libreries"
   ]
  },
  {
   "cell_type": "code",
   "execution_count": 1,
   "metadata": {
    "colab": {
     "base_uri": "https://localhost:8080/"
    },
    "id": "wd6UETGquN6U",
    "outputId": "30b33361-3af2-4b25-a273-2126402efbb8"
   },
   "outputs": [
    {
     "name": "stdout",
     "output_type": "stream",
     "text": [
      "Mounted at /content/drive\n"
     ]
    }
   ],
   "source": [
    "from google.colab import drive\n",
    "drive.mount('/content/drive')"
   ]
  },
  {
   "cell_type": "code",
   "execution_count": null,
   "metadata": {
    "id": "8jrBokS9uCCw"
   },
   "outputs": [],
   "source": [
    "import pandas as pd\n",
    "import numpy as np\n",
    "import matplotlib.pyplot as plt\n",
    "np.random.seed(42)"
   ]
  },
  {
   "cell_type": "markdown",
   "metadata": {
    "id": "LSlW1PI13f50"
   },
   "source": [
    "<a name=\"cargar_imagenes\"></a>\n",
    "# 2. Load databases"
   ]
  },
  {
   "cell_type": "code",
   "execution_count": null,
   "metadata": {
    "colab": {
     "base_uri": "https://localhost:8080/",
     "height": 758
    },
    "id": "hlNVTitT3pRN",
    "outputId": "89205017-31bd-4594-a76b-adb34f0df774"
   },
   "outputs": [
    {
     "data": {
      "text/html": [
       "<div>\n",
       "<style scoped>\n",
       "    .dataframe tbody tr th:only-of-type {\n",
       "        vertical-align: middle;\n",
       "    }\n",
       "\n",
       "    .dataframe tbody tr th {\n",
       "        vertical-align: top;\n",
       "    }\n",
       "\n",
       "    .dataframe thead th {\n",
       "        text-align: right;\n",
       "    }\n",
       "</style>\n",
       "<table border=\"1\" class=\"dataframe\">\n",
       "  <thead>\n",
       "    <tr style=\"text-align: right;\">\n",
       "      <th></th>\n",
       "      <th>Fecha</th>\n",
       "      <th>GHI_IDEAM</th>\n",
       "      <th>GHI_NSRDB</th>\n",
       "      <th>DHI</th>\n",
       "      <th>DNI</th>\n",
       "      <th>Wind Speed</th>\n",
       "      <th>Temperature</th>\n",
       "      <th>Solar Zenith Angle</th>\n",
       "    </tr>\n",
       "  </thead>\n",
       "  <tbody>\n",
       "    <tr>\n",
       "      <th>0</th>\n",
       "      <td>2006-01-01 00:00:00</td>\n",
       "      <td>0</td>\n",
       "      <td>0</td>\n",
       "      <td>0</td>\n",
       "      <td>0</td>\n",
       "      <td>0</td>\n",
       "      <td>7</td>\n",
       "      <td>157</td>\n",
       "    </tr>\n",
       "    <tr>\n",
       "      <th>1</th>\n",
       "      <td>2006-01-01 01:00:00</td>\n",
       "      <td>0</td>\n",
       "      <td>0</td>\n",
       "      <td>0</td>\n",
       "      <td>0</td>\n",
       "      <td>0</td>\n",
       "      <td>7</td>\n",
       "      <td>153</td>\n",
       "    </tr>\n",
       "    <tr>\n",
       "      <th>2</th>\n",
       "      <td>2006-01-01 02:00:00</td>\n",
       "      <td>0</td>\n",
       "      <td>0</td>\n",
       "      <td>0</td>\n",
       "      <td>0</td>\n",
       "      <td>0</td>\n",
       "      <td>6</td>\n",
       "      <td>142</td>\n",
       "    </tr>\n",
       "    <tr>\n",
       "      <th>3</th>\n",
       "      <td>2006-01-01 03:00:00</td>\n",
       "      <td>0</td>\n",
       "      <td>0</td>\n",
       "      <td>0</td>\n",
       "      <td>0</td>\n",
       "      <td>0</td>\n",
       "      <td>6</td>\n",
       "      <td>130</td>\n",
       "    </tr>\n",
       "    <tr>\n",
       "      <th>4</th>\n",
       "      <td>2006-01-01 04:00:00</td>\n",
       "      <td>0</td>\n",
       "      <td>0</td>\n",
       "      <td>0</td>\n",
       "      <td>0</td>\n",
       "      <td>0</td>\n",
       "      <td>6</td>\n",
       "      <td>117</td>\n",
       "    </tr>\n",
       "    <tr>\n",
       "      <th>5</th>\n",
       "      <td>2006-01-01 05:00:00</td>\n",
       "      <td>0</td>\n",
       "      <td>0</td>\n",
       "      <td>0</td>\n",
       "      <td>0</td>\n",
       "      <td>0</td>\n",
       "      <td>6</td>\n",
       "      <td>103</td>\n",
       "    </tr>\n",
       "    <tr>\n",
       "      <th>6</th>\n",
       "      <td>2006-01-01 06:00:00</td>\n",
       "      <td>0</td>\n",
       "      <td>21</td>\n",
       "      <td>11</td>\n",
       "      <td>160</td>\n",
       "      <td>0</td>\n",
       "      <td>6</td>\n",
       "      <td>89</td>\n",
       "    </tr>\n",
       "    <tr>\n",
       "      <th>7</th>\n",
       "      <td>2006-01-01 07:00:00</td>\n",
       "      <td>513</td>\n",
       "      <td>219</td>\n",
       "      <td>48</td>\n",
       "      <td>695</td>\n",
       "      <td>1</td>\n",
       "      <td>8</td>\n",
       "      <td>76</td>\n",
       "    </tr>\n",
       "    <tr>\n",
       "      <th>8</th>\n",
       "      <td>2006-01-01 08:00:00</td>\n",
       "      <td>1633</td>\n",
       "      <td>480</td>\n",
       "      <td>64</td>\n",
       "      <td>901</td>\n",
       "      <td>1</td>\n",
       "      <td>10</td>\n",
       "      <td>62</td>\n",
       "    </tr>\n",
       "    <tr>\n",
       "      <th>9</th>\n",
       "      <td>2006-01-01 09:00:00</td>\n",
       "      <td>1290</td>\n",
       "      <td>368</td>\n",
       "      <td>319</td>\n",
       "      <td>78</td>\n",
       "      <td>1</td>\n",
       "      <td>12</td>\n",
       "      <td>49</td>\n",
       "    </tr>\n",
       "    <tr>\n",
       "      <th>10</th>\n",
       "      <td>2006-01-01 10:00:00</td>\n",
       "      <td>923</td>\n",
       "      <td>894</td>\n",
       "      <td>91</td>\n",
       "      <td>1010</td>\n",
       "      <td>2</td>\n",
       "      <td>13</td>\n",
       "      <td>37</td>\n",
       "    </tr>\n",
       "    <tr>\n",
       "      <th>11</th>\n",
       "      <td>2006-01-01 11:00:00</td>\n",
       "      <td>1558</td>\n",
       "      <td>619</td>\n",
       "      <td>506</td>\n",
       "      <td>129</td>\n",
       "      <td>2</td>\n",
       "      <td>14</td>\n",
       "      <td>27</td>\n",
       "    </tr>\n",
       "    <tr>\n",
       "      <th>12</th>\n",
       "      <td>2006-01-01 12:00:00</td>\n",
       "      <td>1761</td>\n",
       "      <td>723</td>\n",
       "      <td>537</td>\n",
       "      <td>202</td>\n",
       "      <td>2</td>\n",
       "      <td>14</td>\n",
       "      <td>24</td>\n",
       "    </tr>\n",
       "    <tr>\n",
       "      <th>13</th>\n",
       "      <td>2006-01-01 13:00:00</td>\n",
       "      <td>1374</td>\n",
       "      <td>751</td>\n",
       "      <td>502</td>\n",
       "      <td>284</td>\n",
       "      <td>2</td>\n",
       "      <td>13</td>\n",
       "      <td>28</td>\n",
       "    </tr>\n",
       "    <tr>\n",
       "      <th>14</th>\n",
       "      <td>2006-01-01 14:00:00</td>\n",
       "      <td>910</td>\n",
       "      <td>688</td>\n",
       "      <td>437</td>\n",
       "      <td>316</td>\n",
       "      <td>2</td>\n",
       "      <td>12</td>\n",
       "      <td>38</td>\n",
       "    </tr>\n",
       "    <tr>\n",
       "      <th>15</th>\n",
       "      <td>2006-01-01 15:00:00</td>\n",
       "      <td>840</td>\n",
       "      <td>528</td>\n",
       "      <td>233</td>\n",
       "      <td>487</td>\n",
       "      <td>2</td>\n",
       "      <td>10</td>\n",
       "      <td>50</td>\n",
       "    </tr>\n",
       "    <tr>\n",
       "      <th>16</th>\n",
       "      <td>2006-01-01 16:00:00</td>\n",
       "      <td>556</td>\n",
       "      <td>322</td>\n",
       "      <td>121</td>\n",
       "      <td>402</td>\n",
       "      <td>2</td>\n",
       "      <td>9</td>\n",
       "      <td>63</td>\n",
       "    </tr>\n",
       "    <tr>\n",
       "      <th>17</th>\n",
       "      <td>2006-01-01 17:00:00</td>\n",
       "      <td>410</td>\n",
       "      <td>186</td>\n",
       "      <td>67</td>\n",
       "      <td>508</td>\n",
       "      <td>2</td>\n",
       "      <td>8</td>\n",
       "      <td>76</td>\n",
       "    </tr>\n",
       "    <tr>\n",
       "      <th>18</th>\n",
       "      <td>2006-01-01 18:00:00</td>\n",
       "      <td>157</td>\n",
       "      <td>13</td>\n",
       "      <td>10</td>\n",
       "      <td>62</td>\n",
       "      <td>2</td>\n",
       "      <td>8</td>\n",
       "      <td>90</td>\n",
       "    </tr>\n",
       "    <tr>\n",
       "      <th>19</th>\n",
       "      <td>2006-01-01 19:00:00</td>\n",
       "      <td>10</td>\n",
       "      <td>0</td>\n",
       "      <td>0</td>\n",
       "      <td>0</td>\n",
       "      <td>1</td>\n",
       "      <td>7</td>\n",
       "      <td>104</td>\n",
       "    </tr>\n",
       "    <tr>\n",
       "      <th>20</th>\n",
       "      <td>2006-01-01 20:00:00</td>\n",
       "      <td>0</td>\n",
       "      <td>0</td>\n",
       "      <td>0</td>\n",
       "      <td>0</td>\n",
       "      <td>1</td>\n",
       "      <td>7</td>\n",
       "      <td>118</td>\n",
       "    </tr>\n",
       "    <tr>\n",
       "      <th>21</th>\n",
       "      <td>2006-01-01 21:00:00</td>\n",
       "      <td>0</td>\n",
       "      <td>0</td>\n",
       "      <td>0</td>\n",
       "      <td>0</td>\n",
       "      <td>1</td>\n",
       "      <td>7</td>\n",
       "      <td>131</td>\n",
       "    </tr>\n",
       "    <tr>\n",
       "      <th>22</th>\n",
       "      <td>2006-01-01 22:00:00</td>\n",
       "      <td>0</td>\n",
       "      <td>0</td>\n",
       "      <td>0</td>\n",
       "      <td>0</td>\n",
       "      <td>1</td>\n",
       "      <td>6</td>\n",
       "      <td>143</td>\n",
       "    </tr>\n",
       "    <tr>\n",
       "      <th>23</th>\n",
       "      <td>2006-01-01 23:00:00</td>\n",
       "      <td>0</td>\n",
       "      <td>0</td>\n",
       "      <td>0</td>\n",
       "      <td>0</td>\n",
       "      <td>2</td>\n",
       "      <td>6</td>\n",
       "      <td>153</td>\n",
       "    </tr>\n",
       "  </tbody>\n",
       "</table>\n",
       "</div>"
      ],
      "text/plain": [
       "                  Fecha  GHI_IDEAM  ...  Temperature  Solar Zenith Angle\n",
       "0   2006-01-01 00:00:00          0  ...            7                 157\n",
       "1   2006-01-01 01:00:00          0  ...            7                 153\n",
       "2   2006-01-01 02:00:00          0  ...            6                 142\n",
       "3   2006-01-01 03:00:00          0  ...            6                 130\n",
       "4   2006-01-01 04:00:00          0  ...            6                 117\n",
       "5   2006-01-01 05:00:00          0  ...            6                 103\n",
       "6   2006-01-01 06:00:00          0  ...            6                  89\n",
       "7   2006-01-01 07:00:00        513  ...            8                  76\n",
       "8   2006-01-01 08:00:00       1633  ...           10                  62\n",
       "9   2006-01-01 09:00:00       1290  ...           12                  49\n",
       "10  2006-01-01 10:00:00        923  ...           13                  37\n",
       "11  2006-01-01 11:00:00       1558  ...           14                  27\n",
       "12  2006-01-01 12:00:00       1761  ...           14                  24\n",
       "13  2006-01-01 13:00:00       1374  ...           13                  28\n",
       "14  2006-01-01 14:00:00        910  ...           12                  38\n",
       "15  2006-01-01 15:00:00        840  ...           10                  50\n",
       "16  2006-01-01 16:00:00        556  ...            9                  63\n",
       "17  2006-01-01 17:00:00        410  ...            8                  76\n",
       "18  2006-01-01 18:00:00        157  ...            8                  90\n",
       "19  2006-01-01 19:00:00         10  ...            7                 104\n",
       "20  2006-01-01 20:00:00          0  ...            7                 118\n",
       "21  2006-01-01 21:00:00          0  ...            7                 131\n",
       "22  2006-01-01 22:00:00          0  ...            6                 143\n",
       "23  2006-01-01 23:00:00          0  ...            6                 153\n",
       "\n",
       "[24 rows x 8 columns]"
      ]
     },
     "execution_count": 63,
     "metadata": {
      "tags": []
     },
     "output_type": "execute_result"
    }
   ],
   "source": [
    "data = pd.read_csv('/content/drive/MyDrive/Colab Notebooks/ML in PV systems/data_IDEAM_NREL.csv')\n",
    "data.head(24)"
   ]
  },
  {
   "cell_type": "code",
   "execution_count": null,
   "metadata": {
    "colab": {
     "base_uri": "https://localhost:8080/"
    },
    "id": "VBsVp4UAKjKe",
    "outputId": "e1a9503b-67ff-498d-b017-81d5fecddc32"
   },
   "outputs": [
    {
     "name": "stdout",
     "output_type": "stream",
     "text": [
      "<class 'pandas.core.frame.DataFrame'>\n",
      "RangeIndex: 81579 entries, 0 to 81578\n",
      "Data columns (total 8 columns):\n",
      " #   Column              Non-Null Count  Dtype \n",
      "---  ------              --------------  ----- \n",
      " 0   Fecha               81579 non-null  object\n",
      " 1   GHI_IDEAM           81579 non-null  int64 \n",
      " 2   GHI_NSRDB           81579 non-null  int64 \n",
      " 3   DHI                 81579 non-null  int64 \n",
      " 4   DNI                 81579 non-null  int64 \n",
      " 5   Wind Speed          81579 non-null  int64 \n",
      " 6   Temperature         81579 non-null  int64 \n",
      " 7   Solar Zenith Angle  81579 non-null  int64 \n",
      "dtypes: int64(7), object(1)\n",
      "memory usage: 5.0+ MB\n"
     ]
    }
   ],
   "source": [
    "data.info()"
   ]
  },
  {
   "cell_type": "markdown",
   "metadata": {
    "id": "IXy_u2uA9Vn_"
   },
   "source": [
    "### 2.1 Comparing in-situ vs satellite data"
   ]
  },
  {
   "cell_type": "code",
   "execution_count": null,
   "metadata": {
    "colab": {
     "base_uri": "https://localhost:8080/",
     "height": 452
    },
    "id": "OKb8gt7a6Zww",
    "outputId": "f1eaa9fa-f795-46de-f09d-40c771f14a29"
   },
   "outputs": [
    {
     "data": {
      "image/png": "[encoded data removed]",
      "text/plain": [
       "<Figure size 648x504 with 1 Axes>"
      ]
     },
     "metadata": {
      "needs_background": "light",
      "tags": []
     },
     "output_type": "display_data"
    }
   ],
   "source": [
    "ghi_ideam = data['GHI_IDEAM'].values\n",
    "ghi_nsrdb = data['GHI_NSRDB'].values\n",
    "\n",
    "plt.figure()\n",
    "plt.rcParams['figure.figsize'] = (9, 7)\n",
    "plt.plot(ghi_ideam[0:24*7],'--b', label='In-situ', linewidth=2)\n",
    "plt.plot(ghi_nsrdb[0:24*7],'-.g', label='Satellite', linewidth=2)\n",
    "plt.legend(loc='best', fontsize=15)\n",
    "plt.xlabel(\"Time[hours]\", fontsize=15)\n",
    "plt.xticks(size=15)\n",
    "plt.ylabel(\"GHI $[kWh/m^2]$\", fontsize=15)\n",
    "plt.yticks(size=15)\n",
    "# plt.savefig('/figure.pdf', format='pdf', dpi=300)\n",
    "plt.show()"
   ]
  },
  {
   "cell_type": "code",
   "execution_count": null,
   "metadata": {
    "colab": {
     "base_uri": "https://localhost:8080/",
     "height": 254
    },
    "id": "kyHYg5K-4799",
    "outputId": "626f08b7-5d4c-4f71-af28-138d6103c662"
   },
   "outputs": [
    {
     "data": {
      "text/html": [
       "<div>\n",
       "<style scoped>\n",
       "    .dataframe tbody tr th:only-of-type {\n",
       "        vertical-align: middle;\n",
       "    }\n",
       "\n",
       "    .dataframe tbody tr th {\n",
       "        vertical-align: top;\n",
       "    }\n",
       "\n",
       "    .dataframe thead th {\n",
       "        text-align: right;\n",
       "    }\n",
       "</style>\n",
       "<table border=\"1\" class=\"dataframe\">\n",
       "  <thead>\n",
       "    <tr style=\"text-align: right;\">\n",
       "      <th></th>\n",
       "      <th>GHI_IDEAM</th>\n",
       "      <th>GHI_NSRDB</th>\n",
       "      <th>DHI</th>\n",
       "      <th>DNI</th>\n",
       "      <th>Wind Speed</th>\n",
       "      <th>Temperature</th>\n",
       "      <th>Solar Zenith Angle</th>\n",
       "    </tr>\n",
       "  </thead>\n",
       "  <tbody>\n",
       "    <tr>\n",
       "      <th>GHI_IDEAM</th>\n",
       "      <td>1.000000</td>\n",
       "      <td>0.808026</td>\n",
       "      <td>0.735807</td>\n",
       "      <td>0.464808</td>\n",
       "      <td>0.260595</td>\n",
       "      <td>0.718470</td>\n",
       "      <td>-0.707808</td>\n",
       "    </tr>\n",
       "    <tr>\n",
       "      <th>GHI_NSRDB</th>\n",
       "      <td>0.808026</td>\n",
       "      <td>1.000000</td>\n",
       "      <td>0.832601</td>\n",
       "      <td>0.633091</td>\n",
       "      <td>0.300985</td>\n",
       "      <td>0.741691</td>\n",
       "      <td>-0.737313</td>\n",
       "    </tr>\n",
       "    <tr>\n",
       "      <th>DHI</th>\n",
       "      <td>0.735807</td>\n",
       "      <td>0.832601</td>\n",
       "      <td>1.000000</td>\n",
       "      <td>0.168045</td>\n",
       "      <td>0.376760</td>\n",
       "      <td>0.776653</td>\n",
       "      <td>-0.793081</td>\n",
       "    </tr>\n",
       "    <tr>\n",
       "      <th>DNI</th>\n",
       "      <td>0.464808</td>\n",
       "      <td>0.633091</td>\n",
       "      <td>0.168045</td>\n",
       "      <td>1.000000</td>\n",
       "      <td>0.052352</td>\n",
       "      <td>0.290528</td>\n",
       "      <td>-0.303762</td>\n",
       "    </tr>\n",
       "    <tr>\n",
       "      <th>Wind Speed</th>\n",
       "      <td>0.260595</td>\n",
       "      <td>0.300985</td>\n",
       "      <td>0.376760</td>\n",
       "      <td>0.052352</td>\n",
       "      <td>1.000000</td>\n",
       "      <td>0.421137</td>\n",
       "      <td>-0.526637</td>\n",
       "    </tr>\n",
       "    <tr>\n",
       "      <th>Temperature</th>\n",
       "      <td>0.718470</td>\n",
       "      <td>0.741691</td>\n",
       "      <td>0.776653</td>\n",
       "      <td>0.290528</td>\n",
       "      <td>0.421137</td>\n",
       "      <td>1.000000</td>\n",
       "      <td>-0.830112</td>\n",
       "    </tr>\n",
       "    <tr>\n",
       "      <th>Solar Zenith Angle</th>\n",
       "      <td>-0.707808</td>\n",
       "      <td>-0.737313</td>\n",
       "      <td>-0.793081</td>\n",
       "      <td>-0.303762</td>\n",
       "      <td>-0.526637</td>\n",
       "      <td>-0.830112</td>\n",
       "      <td>1.000000</td>\n",
       "    </tr>\n",
       "  </tbody>\n",
       "</table>\n",
       "</div>"
      ],
      "text/plain": [
       "                    GHI_IDEAM  GHI_NSRDB  ...  Temperature  Solar Zenith Angle\n",
       "GHI_IDEAM            1.000000   0.808026  ...     0.718470           -0.707808\n",
       "GHI_NSRDB            0.808026   1.000000  ...     0.741691           -0.737313\n",
       "DHI                  0.735807   0.832601  ...     0.776653           -0.793081\n",
       "DNI                  0.464808   0.633091  ...     0.290528           -0.303762\n",
       "Wind Speed           0.260595   0.300985  ...     0.421137           -0.526637\n",
       "Temperature          0.718470   0.741691  ...     1.000000           -0.830112\n",
       "Solar Zenith Angle  -0.707808  -0.737313  ...    -0.830112            1.000000\n",
       "\n",
       "[7 rows x 7 columns]"
      ]
     },
     "execution_count": 66,
     "metadata": {
      "tags": []
     },
     "output_type": "execute_result"
    }
   ],
   "source": [
    "data.corr(method ='pearson')"
   ]
  },
  {
   "cell_type": "markdown",
   "metadata": {
    "id": "Q1BVKb23EUs3"
   },
   "source": [
    "<a name=\"modelos\"></a>\n",
    "# 3. Regresion models"
   ]
  },
  {
   "cell_type": "markdown",
   "metadata": {
    "id": "WuHKk3PzE1OV"
   },
   "source": [
    "### 3.1 Data mixing"
   ]
  },
  {
   "cell_type": "code",
   "execution_count": null,
   "metadata": {
    "id": "u7ktze9cE10l"
   },
   "outputs": [],
   "source": [
    "from sklearn.utils import shuffle\n",
    "X_ = data[['GHI_NSRDB','DHI','DNI','Wind Speed','Temperature','Solar Zenith Angle']]\n",
    "y_ = data['GHI_IDEAM']\n",
    "X, y = shuffle(X_, y_, random_state=42)"
   ]
  },
  {
   "cell_type": "code",
   "execution_count": null,
   "metadata": {
    "colab": {
     "base_uri": "https://localhost:8080/",
     "height": 343
    },
    "id": "d7k0kzf2FNU-",
    "outputId": "0ee5b002-fe81-47c1-9a93-0b30e759eb90"
   },
   "outputs": [
    {
     "data": {
      "text/html": [
       "<div>\n",
       "<style scoped>\n",
       "    .dataframe tbody tr th:only-of-type {\n",
       "        vertical-align: middle;\n",
       "    }\n",
       "\n",
       "    .dataframe tbody tr th {\n",
       "        vertical-align: top;\n",
       "    }\n",
       "\n",
       "    .dataframe thead th {\n",
       "        text-align: right;\n",
       "    }\n",
       "</style>\n",
       "<table border=\"1\" class=\"dataframe\">\n",
       "  <thead>\n",
       "    <tr style=\"text-align: right;\">\n",
       "      <th></th>\n",
       "      <th>GHI_NSRDB</th>\n",
       "      <th>DHI</th>\n",
       "      <th>DNI</th>\n",
       "      <th>Wind Speed</th>\n",
       "      <th>Temperature</th>\n",
       "      <th>Solar Zenith Angle</th>\n",
       "    </tr>\n",
       "  </thead>\n",
       "  <tbody>\n",
       "    <tr>\n",
       "      <th>8971</th>\n",
       "      <td>0</td>\n",
       "      <td>0</td>\n",
       "      <td>0</td>\n",
       "      <td>1</td>\n",
       "      <td>7</td>\n",
       "      <td>129</td>\n",
       "    </tr>\n",
       "    <tr>\n",
       "      <th>15889</th>\n",
       "      <td>0</td>\n",
       "      <td>0</td>\n",
       "      <td>0</td>\n",
       "      <td>0</td>\n",
       "      <td>5</td>\n",
       "      <td>115</td>\n",
       "    </tr>\n",
       "    <tr>\n",
       "      <th>45059</th>\n",
       "      <td>177</td>\n",
       "      <td>164</td>\n",
       "      <td>24</td>\n",
       "      <td>3</td>\n",
       "      <td>9</td>\n",
       "      <td>62</td>\n",
       "    </tr>\n",
       "    <tr>\n",
       "      <th>65352</th>\n",
       "      <td>132</td>\n",
       "      <td>130</td>\n",
       "      <td>6</td>\n",
       "      <td>4</td>\n",
       "      <td>10</td>\n",
       "      <td>63</td>\n",
       "    </tr>\n",
       "    <tr>\n",
       "      <th>62415</th>\n",
       "      <td>1086</td>\n",
       "      <td>144</td>\n",
       "      <td>963</td>\n",
       "      <td>1</td>\n",
       "      <td>13</td>\n",
       "      <td>12</td>\n",
       "    </tr>\n",
       "    <tr>\n",
       "      <th>36552</th>\n",
       "      <td>198</td>\n",
       "      <td>186</td>\n",
       "      <td>15</td>\n",
       "      <td>3</td>\n",
       "      <td>10</td>\n",
       "      <td>37</td>\n",
       "    </tr>\n",
       "    <tr>\n",
       "      <th>26800</th>\n",
       "      <td>291</td>\n",
       "      <td>270</td>\n",
       "      <td>20</td>\n",
       "      <td>2</td>\n",
       "      <td>14</td>\n",
       "      <td>16</td>\n",
       "    </tr>\n",
       "    <tr>\n",
       "      <th>24184</th>\n",
       "      <td>162</td>\n",
       "      <td>150</td>\n",
       "      <td>12</td>\n",
       "      <td>3</td>\n",
       "      <td>15</td>\n",
       "      <td>26</td>\n",
       "    </tr>\n",
       "    <tr>\n",
       "      <th>72488</th>\n",
       "      <td>785</td>\n",
       "      <td>225</td>\n",
       "      <td>732</td>\n",
       "      <td>3</td>\n",
       "      <td>13</td>\n",
       "      <td>40</td>\n",
       "    </tr>\n",
       "    <tr>\n",
       "      <th>66534</th>\n",
       "      <td>0</td>\n",
       "      <td>0</td>\n",
       "      <td>0</td>\n",
       "      <td>0</td>\n",
       "      <td>6</td>\n",
       "      <td>128</td>\n",
       "    </tr>\n",
       "  </tbody>\n",
       "</table>\n",
       "</div>"
      ],
      "text/plain": [
       "       GHI_NSRDB  DHI  DNI  Wind Speed  Temperature  Solar Zenith Angle\n",
       "8971           0    0    0           1            7                 129\n",
       "15889          0    0    0           0            5                 115\n",
       "45059        177  164   24           3            9                  62\n",
       "65352        132  130    6           4           10                  63\n",
       "62415       1086  144  963           1           13                  12\n",
       "36552        198  186   15           3           10                  37\n",
       "26800        291  270   20           2           14                  16\n",
       "24184        162  150   12           3           15                  26\n",
       "72488        785  225  732           3           13                  40\n",
       "66534          0    0    0           0            6                 128"
      ]
     },
     "execution_count": 68,
     "metadata": {
      "tags": []
     },
     "output_type": "execute_result"
    }
   ],
   "source": [
    "X.head(10)"
   ]
  },
  {
   "cell_type": "markdown",
   "metadata": {
    "id": "-2xHIy-2EsIO"
   },
   "source": [
    "### 3.2 Normalizing and dividing into: training, test and validation sets"
   ]
  },
  {
   "cell_type": "code",
   "execution_count": null,
   "metadata": {
    "id": "PQ9lhS7TEu3M"
   },
   "outputs": [],
   "source": [
    "from sklearn.preprocessing import StandardScaler\n",
    "\n",
    "X_scaler = StandardScaler()\n",
    "\n",
    "n = len(X)\n",
    "X_train = X[:round(n*.7)]\n",
    "X_valid = X[round(n*.7):round(n*.85)]\n",
    "X_test = X[round(n*.85):]\n",
    "\n",
    "X_train = X_scaler.fit_transform(X_train)\n",
    "X_valid = X_scaler.transform(X_valid)\n",
    "X_test = X_scaler.transform(X_test)\n",
    "\n",
    "\n",
    "y_scaler = StandardScaler()\n",
    "\n",
    "y = y.values.reshape(-1, 1)\n",
    "y_train = y[:round(n*.7)]\n",
    "y_valid = y[round(n*.7):round(n*.85)]\n",
    "y_test = y[round(n*.85):]\n",
    "\n",
    "y_train = y_scaler.fit_transform(y_train).ravel()\n",
    "y_valid = y_scaler.transform(y_valid).ravel()\n",
    "y_test = y_scaler.transform(y_test).ravel()"
   ]
  },
  {
   "cell_type": "markdown",
   "metadata": {
    "id": "hRZ9wCUrVzND"
   },
   "source": [
    "## 3.3 Linear Regression"
   ]
  },
  {
   "cell_type": "code",
   "execution_count": null,
   "metadata": {
    "colab": {
     "base_uri": "https://localhost:8080/"
    },
    "id": "e_0vwo66FpzN",
    "outputId": "53d610f7-834c-4bd3-b110-2dee3845fa90"
   },
   "outputs": [
    {
     "name": "stdout",
     "output_type": "stream",
     "text": [
      "Root mean square error:  0.56\n",
      "Mean absolute error:  0.35\n",
      "R-Squared:  0.69\n"
     ]
    }
   ],
   "source": [
    "from sklearn.linear_model import LinearRegression\n",
    "from sklearn.metrics import mean_squared_error, mean_absolute_error, r2_score\n",
    "\n",
    "lin_reg = LinearRegression()\n",
    "\n",
    "lin_reg.fit(X_train,y_train)\n",
    "y_pred = lin_reg.predict(X_valid)\n",
    "\n",
    "rmse = np.sqrt(mean_squared_error(y_valid, y_pred))\n",
    "mae = mean_absolute_error(y_valid, y_pred)\n",
    "r2 = r2_score(y_valid, y_pred)\n",
    "\n",
    "print('Root mean square error: ', round(rmse,2))\n",
    "print('Mean absolute error: ', round(mae,2))\n",
    "print('R-Squared: ', round(r2,2))"
   ]
  },
  {
   "cell_type": "markdown",
   "metadata": {
    "id": "R91pmFe2toYW"
   },
   "source": [
    "## 3.4 Random Forest"
   ]
  },
  {
   "cell_type": "code",
   "execution_count": null,
   "metadata": {
    "colab": {
     "base_uri": "https://localhost:8080/"
    },
    "id": "IdwXrL9sfl-A",
    "outputId": "fe8492f6-8d18-4ac5-91c1-c87f9298c025"
   },
   "outputs": [
    {
     "name": "stdout",
     "output_type": "stream",
     "text": [
      "Root mean square error:  0.22\n",
      "Mean absolute error:  0.11\n",
      "R-Squared:  0.95\n"
     ]
    }
   ],
   "source": [
    "from sklearn.ensemble import RandomForestRegressor\n",
    "\n",
    "forest_reg = RandomForestRegressor(n_estimators=100,random_state=42)\n",
    "forest_reg.fit(X_test, y_test)\n",
    "y_pred = forest_reg.predict(X_valid)\n",
    "\n",
    "rmse = np.sqrt(mean_squared_error(y_valid, y_pred))\n",
    "mae = mean_absolute_error(y_valid, y_pred)\n",
    "r2 = r2_score(y_valid, y_pred)\n",
    "\n",
    "print('Root mean square error: ', round(rmse,2))\n",
    "print('Mean absolute error: ', round(mae,2))\n",
    "print('R-Squared: ', round(r2,2))"
   ]
  },
  {
   "cell_type": "markdown",
   "metadata": {
    "id": "nG2TDjjzylh8"
   },
   "source": [
    "## 3.5 Neural Networks"
   ]
  },
  {
   "cell_type": "code",
   "execution_count": null,
   "metadata": {
    "colab": {
     "base_uri": "https://localhost:8080/"
    },
    "id": "6FXuJDMSyfpM",
    "outputId": "73fdc030-7249-4ebd-b4ed-257b2d18bef9"
   },
   "outputs": [
    {
     "name": "stdout",
     "output_type": "stream",
     "text": [
      "Root mean square error:  0.54\n",
      "Mean absolute error:  0.3\n",
      "R-Squared:  0.71\n"
     ]
    }
   ],
   "source": [
    "from sklearn.neural_network import MLPRegressor\n",
    "\n",
    "rn_reg = MLPRegressor(hidden_layer_sizes=[10], random_state=42, max_iter=500)\n",
    "rn_reg.fit(X_train, y_train)\n",
    "y_pred = rn_reg.predict(X_valid)\n",
    "\n",
    "rmse = np.sqrt(mean_squared_error(y_valid, y_pred))\n",
    "mae = mean_absolute_error(y_valid, y_pred)\n",
    "r2 = r2_score(y_valid, y_pred)\n",
    "\n",
    "print('Root mean square error: ', round(rmse,2))\n",
    "print('Mean absolute error: ', round(mae,2))\n",
    "print('R-Squared: ', round(r2,2))"
   ]
  },
  {
   "cell_type": "markdown",
   "metadata": {
    "id": "8sxjDcRTW9DV"
   },
   "source": [
    "<a name=\"test\"></a>\n",
    "# 4 Testing best model in test set"
   ]
  },
  {
   "cell_type": "code",
   "execution_count": null,
   "metadata": {
    "colab": {
     "base_uri": "https://localhost:8080/"
    },
    "id": "L5XE89Sa81zR",
    "outputId": "a0c14cde-acc3-45f2-fc05-29bcdd806bc2"
   },
   "outputs": [
    {
     "name": "stdout",
     "output_type": "stream",
     "text": [
      "Root mean square error:  0.56\n",
      "Mean absolute error:  0.29\n",
      "R-Squared:  0.7\n"
     ]
    }
   ],
   "source": [
    "y_pred = forest_reg.predict(X_test)\n",
    "\n",
    "rmse = np.sqrt(mean_squared_error(y_test, y_pred))\n",
    "mae = mean_absolute_error(y_test, y_pred)\n",
    "r2 = r2_score(y_test, y_pred)\n",
    "\n",
    "print('Root mean square error: ', round(rmse,2))\n",
    "print('Mean absolute error: ', round(mae,2))\n",
    "print('R-Squared: ', round(r2,2))"
   ]
  },
  {
   "cell_type": "markdown",
   "metadata": {
    "id": "aApRw2NiXTik"
   },
   "source": [
    "<a name=\"guardar_modelo\"></a>\n",
    "# 5 Saving best model"
   ]
  },
  {
   "cell_type": "code",
   "execution_count": null,
   "metadata": {
    "colab": {
     "base_uri": "https://localhost:8080/"
    },
    "id": "-1wO-tjjVcjK",
    "outputId": "5c77ca42-039e-4f60-d54c-89cf47e4a25e"
   },
   "outputs": [
    {
     "data": {
      "text/plain": [
       "['/content/drive/MyDrive/Colab Notebooks/ML in PV systems/mejor_modelo.pkl']"
      ]
     },
     "execution_count": 83,
     "metadata": {
      "tags": []
     },
     "output_type": "execute_result"
    }
   ],
   "source": [
    "import joblib\n",
    "joblib.dump(forest_reg, '/content/drive/MyDrive/Colab Notebooks/ML in PV systems/mejor_modelo.pkl')"
   ]
  },
  {
   "cell_type": "markdown",
   "metadata": {
    "id": "_6S6om1sX6_Y"
   },
   "source": [
    "<a name=\"pruebas\"></a>\n",
    "# 6 Testing of the best model"
   ]
  },
  {
   "cell_type": "code",
   "execution_count": null,
   "metadata": {
    "colab": {
     "base_uri": "https://localhost:8080/",
     "height": 452
    },
    "id": "jaVjKE-gXops",
    "outputId": "8b5ee470-cef6-4791-b41b-a0698a37308b"
   },
   "outputs": [
    {
     "data": {
      "image/png": "[encoded data removed]",
      "text/plain": [
       "<Figure size 648x504 with 1 Axes>"
      ]
     },
     "metadata": {
      "needs_background": "light",
      "tags": []
     },
     "output_type": "display_data"
    }
   ],
   "source": [
    "X_norm = X_scaler.fit_transform(X_)\n",
    "predictions = forest_reg.predict(X_norm)\n",
    "y_pred = y_scaler.inverse_transform(predictions)\n",
    "\n",
    "plt.figure()\n",
    "plt.rcParams['figure.figsize'] = (9, 7)\n",
    "plt.plot(ghi_ideam[0:24*7],'--b', label='In-situ', linewidth=2)\n",
    "plt.plot(ghi_nsrdb[0:24*7],'-.g', label='Satellite', linewidth=2)\n",
    "plt.plot(y_pred[0:24*7],'r', label='Improved data', linewidth=2)\n",
    "plt.legend(loc='best', fontsize=15)\n",
    "plt.xlabel(\"Time[hours]\", fontsize=15)\n",
    "plt.xticks(size=15)\n",
    "plt.ylabel(\"GHI $[kWh/m^2]$\", fontsize=15)\n",
    "plt.yticks(size=15)\n",
    "# plt.savefig('/figure.pdf', format='pdf', dpi=300)\n",
    "plt.show()"
   ]
  },
  {
   "cell_type": "code",
   "execution_count": null,
   "metadata": {
    "colab": {
     "base_uri": "https://localhost:8080/",
     "height": 136
    },
    "id": "EVFHFAjOYWem",
    "outputId": "e2327dc7-c0de-48fb-dc51-72ac56eb0812"
   },
   "outputs": [
    {
     "data": {
      "text/html": [
       "<div>\n",
       "<style scoped>\n",
       "    .dataframe tbody tr th:only-of-type {\n",
       "        vertical-align: middle;\n",
       "    }\n",
       "\n",
       "    .dataframe tbody tr th {\n",
       "        vertical-align: top;\n",
       "    }\n",
       "\n",
       "    .dataframe thead th {\n",
       "        text-align: right;\n",
       "    }\n",
       "</style>\n",
       "<table border=\"1\" class=\"dataframe\">\n",
       "  <thead>\n",
       "    <tr style=\"text-align: right;\">\n",
       "      <th></th>\n",
       "      <th>GHI_IDEAM</th>\n",
       "      <th>GHI_NSRDB</th>\n",
       "      <th>GHI_improved</th>\n",
       "    </tr>\n",
       "  </thead>\n",
       "  <tbody>\n",
       "    <tr>\n",
       "      <th>GHI_IDEAM</th>\n",
       "      <td>1.000000</td>\n",
       "      <td>0.808026</td>\n",
       "      <td>0.854503</td>\n",
       "    </tr>\n",
       "    <tr>\n",
       "      <th>GHI_NSRDB</th>\n",
       "      <td>0.808026</td>\n",
       "      <td>1.000000</td>\n",
       "      <td>0.921712</td>\n",
       "    </tr>\n",
       "    <tr>\n",
       "      <th>GHI_improved</th>\n",
       "      <td>0.854503</td>\n",
       "      <td>0.921712</td>\n",
       "      <td>1.000000</td>\n",
       "    </tr>\n",
       "  </tbody>\n",
       "</table>\n",
       "</div>"
      ],
      "text/plain": [
       "              GHI_IDEAM  GHI_NSRDB  GHI_improved\n",
       "GHI_IDEAM      1.000000   0.808026      0.854503\n",
       "GHI_NSRDB      0.808026   1.000000      0.921712\n",
       "GHI_improved   0.854503   0.921712      1.000000"
      ]
     },
     "execution_count": 116,
     "metadata": {
      "tags": []
     },
     "output_type": "execute_result"
    }
   ],
   "source": [
    "data_improved = pd.DataFrame({\"GHI_IDEAM\": ghi_ideam, \"GHI_NSRDB\": ghi_nsrdb, \"GHI_improved\": y_pred})\n",
    "data_improved.corr(method ='pearson')"
   ]
  },
  {
   "cell_type": "markdown",
   "metadata": {
    "id": "E4gFvQL1irBJ"
   },
   "source": [
    "<a name=\"aplicar_modelo\"></a>\n",
    "# 7 Applying the model to the entire satellite database"
   ]
  },
  {
   "cell_type": "code",
   "execution_count": null,
   "metadata": {
    "id": "qJSKu3Hdi10e"
   },
   "outputs": [],
   "source": [
    "GHI_NREL = pd.read_csv('/content/drive/MyDrive/Colab Notebooks/ML in PV systems/GHI_NREL.csv')\n",
    "\n",
    "scaler = StandardScaler()\n",
    "GHI_NREL_norm = X_scaler.fit_transform(GHI_NREL)\n",
    "\n",
    "GHI_impr = forest_reg.predict(GHI_NREL_norm)\n",
    "GHI_impr = y_scaler.inverse_transform(GHI_impr)\n"
   ]
  },
  {
   "cell_type": "markdown",
   "metadata": {
    "id": "ZCeXBIXFcgpf"
   },
   "source": [
    "<a name=\"base_datos_final\"></a>\n",
    "# 8 Saving improved database"
   ]
  },
  {
   "cell_type": "code",
   "execution_count": null,
   "metadata": {
    "id": "El7jX37Rchld"
   },
   "outputs": [],
   "source": [
    "GHI_impr = pd.DataFrame(np.round(GHI_impr))\n",
    "GHI_impr.to_csv('/content/drive/MyDrive/Colab Notebooks/ML in PV systems/GHI_impr.csv', index=False)"
   ]
  },
  {
   "cell_type": "markdown",
   "metadata": {
    "id": "tHXgJ-CGyGbq"
   },
   "source": [
    "<a name=\"retos\"></a>\n",
    "# 9. Challenges\n",
    "\n",
    "1. Test other regression methods such as Support Vector Regression, AdaBoost.\n",
    "2. Implement cross-validation.\n",
    "\n",
    "Hint:\n",
    "\n",
    "from sklearn.svm import SVR\n",
    "\n",
    "from sklearn.ensemble import AdaBoostClassifier\n",
    "\n",
    "from sklearn.model_selection import cross_val_score\n",
    "\n"
   ]
  }
 ],
 "metadata": {
  "accelerator": "TPU",
  "colab": {
   "collapsed_sections": [],
   "name": "Site_Adaptation.ipynb",
   "provenance": []
  },
  "kernelspec": {
   "display_name": "Python 3",
   "language": "python",
   "name": "python3"
  },
  "language_info": {
   "codemirror_mode": {
    "name": "ipython",
    "version": 3
   },
   "file_extension": ".py",
   "mimetype": "text/x-python",
   "name": "python",
   "nbconvert_exporter": "python",
   "pygments_lexer": "ipython3",
   "version": "3.8.8"
  }
 },
 "nbformat": 4,
 "nbformat_minor": 1
}
